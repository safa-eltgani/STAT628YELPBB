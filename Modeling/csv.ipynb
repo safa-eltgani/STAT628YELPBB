{
 "cells": [
  {
   "cell_type": "code",
   "execution_count": 1,
   "id": "a8a31cd9",
   "metadata": {},
   "outputs": [],
   "source": [
    "import json\n",
    "import pandas as pd\n",
    "import numpy as np\n",
    "import os\n",
    "os.chdir(r\"D:/Wisconsin/628/project 3/yelp_Fall2023/\")"
   ]
  },
  {
   "cell_type": "code",
   "execution_count": 2,
   "id": "5cfe6b29",
   "metadata": {},
   "outputs": [],
   "source": [
    "# data = json.loads(\"business.json\")\n",
    "alldata=pd.read_csv('Trips_by_Distance.csv')\n",
    "# Now 'data' contains the JSON content as a Python dictionary"
   ]
  },
  {
   "cell_type": "code",
   "execution_count": null,
   "id": "e4aac78b",
   "metadata": {},
   "outputs": [],
   "source": [
    "import json\n",
    "import pandas as pd\n",
    "import os\n",
    "data = []\n",
    "os.chdir(r\"D:/Wisconsin/628/project 3/yelp_Fall2023/\")\n",
    "with open(\"review.json\", 'rb') as f:\n",
    "    while True:\n",
    "        line_data = f.readline()\n",
    "        if not line_data:\n",
    "            break\n",
    "        temp = json.loads(line_data)\n",
    "        data.append(temp)\n",
    "review = pd.DataFrame(data)\n"
   ]
  },
  {
   "cell_type": "code",
   "execution_count": 3,
   "id": "0352fe95",
   "metadata": {},
   "outputs": [],
   "source": [
    "business = pd.read_json(\"business.json\",lines=True)"
   ]
  },
  {
   "cell_type": "code",
   "execution_count": 11,
   "id": "a0f83ab5",
   "metadata": {},
   "outputs": [],
   "source": [
    "import json\n",
    "import pandas as pd\n",
    "import os\n",
    "\n",
    "#data = []\n",
    "#os.chdir(r\"D:/Wisconsin/628/project 3/yelp_Fall2023/\")\n",
    "\n",
    "os.chdir(r\"D:/Wisconsin/628/project 3/yelp_Fall2023/\")\n",
    "\n",
    "review_json_path = 'review.json'\n",
    "\n",
    "chunk_size = 1000000  # Set your desired chunk size\n",
    "\n",
    "json_reader = pd.read_json(\n",
    "    review_json_path,\n",
    "    lines=True,\n",
    "    dtype={\n",
    "        'review_id': str,\n",
    "        'user_id': str,\n",
    "        'business_id': str,\n",
    "        'stars': int,\n",
    "        'date': str,\n",
    "        'text': str,\n",
    "        'useful': int,\n",
    "        'funny': int,\n",
    "        'cool': int\n",
    "    },\n",
    "    chunksize=chunk_size\n",
    ")\n",
    "\n",
    "\n",
    "output_folder = 'out/'\n",
    "\n",
    "\n",
    "csv_file_counter = 1\n",
    "\n",
    "\n",
    "for chunk in json_reader:\n",
    " \n",
    "    csv_file_path = f'{output_folder}review_data_{csv_file_counter}.csv'\n",
    "\n",
    "    chunk.to_csv(csv_file_path, index=False)\n",
    "\n",
    "    csv_file_counter += 1\n",
    "\n",
    "input_folder = 'out/'\n",
    "\n",
    "\n",
    "csv_files = [file for file in os.listdir(input_folder) if file.endswith(\".csv\")]\n",
    "\n",
    "\n",
    "combined_data = pd.DataFrame()\n",
    "\n",
    "\n",
    "for csv_file in csv_files:\n",
    "    csv_file_path = os.path.join(input_folder, csv_file)\n",
    "    data_chunk = pd.read_csv(csv_file_path)\n",
    "    combined_data = pd.concat([combined_data, data_chunk])\n",
    "\n",
    "\n",
    "combined_data.reset_index(drop=True, inplace=True)"
   ]
  },
  {
   "cell_type": "code",
   "execution_count": 5,
   "id": "16668d60",
   "metadata": {},
   "outputs": [],
   "source": [
    "input_folder = 'out/'\n",
    "output_folder = 'out/'\n",
    "csv_files = [file for file in os.listdir(input_folder) if file.endswith(\".csv\")]"
   ]
  },
  {
   "cell_type": "code",
   "execution_count": 7,
   "id": "0f7f08d8",
   "metadata": {},
   "outputs": [],
   "source": [
    "combined_data = pd.DataFrame()\n",
    "\n",
    "for csv_file in csv_files:\n",
    "    csv_file_path = os.path.join(input_folder, csv_file)\n",
    "    data_chunk = pd.read_csv(csv_file_path)\n",
    "    combined_data = pd.concat([combined_data, data_chunk])\n",
    "    \n",
    "combined_data.reset_index(drop=True, inplace=True)"
   ]
  },
  {
   "cell_type": "code",
   "execution_count": 9,
   "id": "2bf165a6",
   "metadata": {},
   "outputs": [],
   "source": [
    "csv_file_path = f'{output_folder}reviewall.csv'\n",
    "combined_data.to_csv(csv_file_path, index=False)"
   ]
  },
  {
   "cell_type": "code",
   "execution_count": 11,
   "id": "768eaddb",
   "metadata": {},
   "outputs": [],
   "source": [
    "review=pd.read_csv('out/reviewall.csv')"
   ]
  },
  {
   "cell_type": "code",
   "execution_count": 12,
   "id": "9ac9ae0a",
   "metadata": {},
   "outputs": [
    {
     "data": {
      "text/html": [
       "<div>\n",
       "<style scoped>\n",
       "    .dataframe tbody tr th:only-of-type {\n",
       "        vertical-align: middle;\n",
       "    }\n",
       "\n",
       "    .dataframe tbody tr th {\n",
       "        vertical-align: top;\n",
       "    }\n",
       "\n",
       "    .dataframe thead th {\n",
       "        text-align: right;\n",
       "    }\n",
       "</style>\n",
       "<table border=\"1\" class=\"dataframe\">\n",
       "  <thead>\n",
       "    <tr style=\"text-align: right;\">\n",
       "      <th></th>\n",
       "      <th>review_id</th>\n",
       "      <th>user_id</th>\n",
       "      <th>business_id</th>\n",
       "      <th>stars</th>\n",
       "      <th>useful</th>\n",
       "      <th>funny</th>\n",
       "      <th>cool</th>\n",
       "      <th>text</th>\n",
       "      <th>date</th>\n",
       "    </tr>\n",
       "  </thead>\n",
       "  <tbody>\n",
       "    <tr>\n",
       "      <th>0</th>\n",
       "      <td>KU_O5udG6zpxOg-VcAEodg</td>\n",
       "      <td>mh_-eMZ6K5RLWhZyISBhwA</td>\n",
       "      <td>XQfwVwDr-v0ZS3_CbbE5Xw</td>\n",
       "      <td>3</td>\n",
       "      <td>0</td>\n",
       "      <td>0</td>\n",
       "      <td>0</td>\n",
       "      <td>If you decide to eat here, just be aware it is...</td>\n",
       "      <td>2018-07-07 22:09:11</td>\n",
       "    </tr>\n",
       "    <tr>\n",
       "      <th>1</th>\n",
       "      <td>BiTunyQ73aT9WBnpR9DZGw</td>\n",
       "      <td>OyoGAe7OKpv6SyGZT5g77Q</td>\n",
       "      <td>7ATYjTIgM3jUlt4UM3IypQ</td>\n",
       "      <td>5</td>\n",
       "      <td>1</td>\n",
       "      <td>0</td>\n",
       "      <td>1</td>\n",
       "      <td>I've taken a lot of spin classes over the year...</td>\n",
       "      <td>2012-01-03 15:28:18</td>\n",
       "    </tr>\n",
       "    <tr>\n",
       "      <th>2</th>\n",
       "      <td>saUsX_uimxRlCVr67Z4Jig</td>\n",
       "      <td>8g_iMtfSiwikVnbP2etR0A</td>\n",
       "      <td>YjUWPpI6HXG530lwP-fb2A</td>\n",
       "      <td>3</td>\n",
       "      <td>0</td>\n",
       "      <td>0</td>\n",
       "      <td>0</td>\n",
       "      <td>Family diner. Had the buffet. Eclectic assortm...</td>\n",
       "      <td>2014-02-05 20:30:30</td>\n",
       "    </tr>\n",
       "    <tr>\n",
       "      <th>3</th>\n",
       "      <td>AqPFMleE6RsU23_auESxiA</td>\n",
       "      <td>_7bHUi9Uuf5__HHc_Q8guQ</td>\n",
       "      <td>kxX2SOes4o-D3ZQBkiMRfA</td>\n",
       "      <td>5</td>\n",
       "      <td>1</td>\n",
       "      <td>0</td>\n",
       "      <td>1</td>\n",
       "      <td>Wow!  Yummy, different,  delicious.   Our favo...</td>\n",
       "      <td>2015-01-04 00:01:03</td>\n",
       "    </tr>\n",
       "    <tr>\n",
       "      <th>4</th>\n",
       "      <td>Sx8TMOWLNuJBWer-0pcmoA</td>\n",
       "      <td>bcjbaE6dDog4jkNY91ncLQ</td>\n",
       "      <td>e4Vwtrqf-wpJfwesgvdgxQ</td>\n",
       "      <td>4</td>\n",
       "      <td>1</td>\n",
       "      <td>0</td>\n",
       "      <td>1</td>\n",
       "      <td>Cute interior and owner (?) gave us tour of up...</td>\n",
       "      <td>2017-01-14 20:54:15</td>\n",
       "    </tr>\n",
       "  </tbody>\n",
       "</table>\n",
       "</div>"
      ],
      "text/plain": [
       "                review_id                 user_id             business_id  \\\n",
       "0  KU_O5udG6zpxOg-VcAEodg  mh_-eMZ6K5RLWhZyISBhwA  XQfwVwDr-v0ZS3_CbbE5Xw   \n",
       "1  BiTunyQ73aT9WBnpR9DZGw  OyoGAe7OKpv6SyGZT5g77Q  7ATYjTIgM3jUlt4UM3IypQ   \n",
       "2  saUsX_uimxRlCVr67Z4Jig  8g_iMtfSiwikVnbP2etR0A  YjUWPpI6HXG530lwP-fb2A   \n",
       "3  AqPFMleE6RsU23_auESxiA  _7bHUi9Uuf5__HHc_Q8guQ  kxX2SOes4o-D3ZQBkiMRfA   \n",
       "4  Sx8TMOWLNuJBWer-0pcmoA  bcjbaE6dDog4jkNY91ncLQ  e4Vwtrqf-wpJfwesgvdgxQ   \n",
       "\n",
       "   stars  useful  funny  cool  \\\n",
       "0      3       0      0     0   \n",
       "1      5       1      0     1   \n",
       "2      3       0      0     0   \n",
       "3      5       1      0     1   \n",
       "4      4       1      0     1   \n",
       "\n",
       "                                                text                 date  \n",
       "0  If you decide to eat here, just be aware it is...  2018-07-07 22:09:11  \n",
       "1  I've taken a lot of spin classes over the year...  2012-01-03 15:28:18  \n",
       "2  Family diner. Had the buffet. Eclectic assortm...  2014-02-05 20:30:30  \n",
       "3  Wow!  Yummy, different,  delicious.   Our favo...  2015-01-04 00:01:03  \n",
       "4  Cute interior and owner (?) gave us tour of up...  2017-01-14 20:54:15  "
      ]
     },
     "execution_count": 12,
     "metadata": {},
     "output_type": "execute_result"
    }
   ],
   "source": [
    "review.head()"
   ]
  },
  {
   "cell_type": "code",
   "execution_count": 13,
   "id": "a5688a01",
   "metadata": {},
   "outputs": [],
   "source": [
    "import paddle"
   ]
  },
  {
   "cell_type": "code",
   "execution_count": 14,
   "id": "8b49abc1",
   "metadata": {},
   "outputs": [
    {
     "name": "stdout",
     "output_type": "stream",
     "text": [
      "2.5.2\n"
     ]
    }
   ],
   "source": [
    "print(paddle.__version__)"
   ]
  },
  {
   "cell_type": "code",
   "execution_count": null,
   "id": "df8f0e4d",
   "metadata": {},
   "outputs": [],
   "source": []
  }
 ],
 "metadata": {
  "kernelspec": {
   "display_name": "Python 3 (ipykernel)",
   "language": "python",
   "name": "python3"
  },
  "language_info": {
   "codemirror_mode": {
    "name": "ipython",
    "version": 3
   },
   "file_extension": ".py",
   "mimetype": "text/x-python",
   "name": "python",
   "nbconvert_exporter": "python",
   "pygments_lexer": "ipython3",
   "version": "3.9.7"
  }
 },
 "nbformat": 4,
 "nbformat_minor": 5
}
