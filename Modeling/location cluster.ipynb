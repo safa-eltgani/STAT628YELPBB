{
 "cells": [
  {
   "cell_type": "code",
   "execution_count": null,
   "id": "29a4c709",
   "metadata": {},
   "outputs": [],
   "source": [
    "import json\n",
    "import pandas as pd\n",
    "import numpy as np\n",
    "import os\n",
    "os.chdir(r\"D:/Wisconsin/628/project 3/yelp_Fall2023/\")"
   ]
  },
  {
   "cell_type": "code",
   "execution_count": null,
   "id": "4d104050",
   "metadata": {},
   "outputs": [],
   "source": [
    "combine = pd.read_csv('combined_data.csv')"
   ]
  },
  {
   "cell_type": "code",
   "execution_count": null,
   "id": "c98e1275",
   "metadata": {},
   "outputs": [],
   "source": [
    "indianapolis_breakfast = combine"
   ]
  },
  {
   "cell_type": "code",
   "execution_count": null,
   "id": "2471e8a0",
   "metadata": {},
   "outputs": [],
   "source": [
    "indianapolis_breakfast = indianapolis_breakfast.drop_duplicates(subset='business_id')"
   ]
  },
  {
   "cell_type": "code",
   "execution_count": null,
   "id": "0af633a6",
   "metadata": {},
   "outputs": [],
   "source": [
    "business = pd.read_json(\"business.json\",lines=True)"
   ]
  },
  {
   "cell_type": "code",
   "execution_count": null,
   "id": "a9ec9fae",
   "metadata": {},
   "outputs": [],
   "source": [
    "pattern = r'(?i).*\\b(breakfast & brunch)\\b.*'\n",
    "breakfast = business[business['categories'].str.contains(pattern, na=False)]"
   ]
  },
  {
   "cell_type": "code",
   "execution_count": null,
   "id": "43864e7b",
   "metadata": {},
   "outputs": [],
   "source": [
    "indianapolis_breakfast1 = breakfast[breakfast['city'] == 'Indianapolis']"
   ]
  },
  {
   "cell_type": "code",
   "execution_count": null,
   "id": "7693dc1b",
   "metadata": {},
   "outputs": [],
   "source": [
    "import pandas as pd\n",
    "from sklearn.cluster import KMeans\n",
    "import matplotlib.pyplot as plt\n",
    "sse = []\n",
    "n = 20\n",
    "for k in range(1, n):\n",
    "    kmeans = KMeans(n_clusters=k)\n",
    "    kmeans.fit(indianapolis_breakfast1[['longitude', 'latitude']])\n",
    "    sse.append(kmeans.inertia_)\n",
    "\n",
    "# 绘制肘部图\n",
    "plt.figure(figsize=(15, 6))\n",
    "plt.plot(range(1, n), sse, marker='o')\n",
    "plt.title('Elbow Method')\n",
    "plt.xlabel('Number of clusters')\n",
    "plt.ylabel('SSE')\n",
    "plt.show()"
   ]
  },
  {
   "cell_type": "code",
   "execution_count": null,
   "id": "49513d31",
   "metadata": {},
   "outputs": [],
   "source": [
    "import pandas as pd\n",
    "from sklearn.cluster import KMeans\n",
    "import matplotlib.pyplot as plt\n",
    "\n",
    "k = 10\n",
    "\n",
    "# apply k-means\n",
    "kmeans = KMeans(n_clusters=k, random_state=1202)\n",
    "kmeans.fit(indianapolis_breakfast[['longitude', 'latitude']])\n",
    "\n",
    "# add result to data set \n",
    "indianapolis_breakfast['cluster'] = kmeans.labels_"
   ]
  },
  {
   "cell_type": "code",
   "execution_count": null,
   "id": "3eb6e0f9",
   "metadata": {},
   "outputs": [],
   "source": [
    "cluster_info = indianapolis_breakfast.groupby('cluster')['stars_x'].agg(['count', 'mean'])\n",
    "\n",
    "# rename column\n",
    "cluster_info.rename(columns={'count': 'Number of Restaurants', 'mean': 'Average Stars'}, inplace=True)\n",
    "\n",
    "# order by average star\n",
    "cluster_info_sorted = cluster_info.sort_values(by='Average Stars', ascending=False)\n",
    "cluster_avg_stars = indianapolis_breakfast.groupby('cluster')['stars_x'].mean().sort_values(ascending=False)\n",
    "sorted_cluster_names = {old: new + 1 for new, old in enumerate(cluster_avg_stars.index)}\n",
    "\n",
    "# rename cluster\n",
    "indianapolis_breakfast['cluster'] = indianapolis_breakfast['cluster'].map(sorted_cluster_names)\n",
    "cluster_stars_mean = indianapolis_breakfast.groupby('cluster')['stars_x'].mean()\n",
    "\n",
    "# get average star in each cluster\n",
    "print(cluster_stars_mean)"
   ]
  },
  {
   "cell_type": "code",
   "execution_count": null,
   "id": "ff9438f3",
   "metadata": {},
   "outputs": [],
   "source": [
    "import pandas as pd\n",
    "from sklearn.cluster import KMeans\n",
    "import folium\n",
    "import numpy as np\n",
    "import matplotlib.pyplot as plt\n",
    "from branca.element import Template, MacroElement\n",
    "\n",
    "map = folium.Map(location=[39.7684, -86.1581], zoom_start=12)\n",
    "# plot for each cluster\n",
    "colors = ['red', 'blue', 'green', 'purple', 'orange']\n",
    "for cluster_num in range(1,k+1):\n",
    "    cluster_data = indianapolis_breakfast[indianapolis_breakfast['cluster'] == cluster_num]\n",
    "    center = cluster_data[['latitude', 'longitude']].mean().values\n",
    "    # compute radius\n",
    "    std_dev = np.mean(cluster_data[['latitude', 'longitude']].std().values)\n",
    "    radius = std_dev * 150000 \n",
    "    folium.Circle(\n",
    "        location=center,\n",
    "        radius=radius,\n",
    "        color=colors[cluster_num % len(colors)],\n",
    "        fill=True,\n",
    "        fill_opacity=0.4\n",
    "    ).add_to(map)\n",
    "    # add mark based on stars\n",
    "    for index, row in cluster_data.iterrows():\n",
    "        if row['stars_x'] >= 4:\n",
    "            marker_color = 'darkgreen'\n",
    "        elif row['stars_x'] >= 3:\n",
    "            marker_color = 'lightgreen'\n",
    "        elif row['stars_x'] >= 2:\n",
    "            marker_color = 'orange'\n",
    "        else:\n",
    "            marker_color = 'red'\n",
    "        \n",
    "        folium.Marker(\n",
    "            [row['latitude'], row['longitude']],\n",
    "            icon=folium.Icon(color=marker_color, icon='star_x')\n",
    "        ).add_to(map)\n",
    "    i = 1\n",
    "    folium.Marker(\n",
    "        location=center,\n",
    "        popup=f'Cluster {cluster_num} (Avg Stars: {cluster_data[\"stars_x\"].mean():.2f})',\n",
    "        icon=folium.Icon(color='blue', icon='info-sign')\n",
    "    ).add_to(map)\n",
    "    i = i+1\n",
    "    \n",
    "    \n",
    "template = \"\"\"\n",
    "{% macro html(this, kwargs) %}\n",
    "<div style =\"position: fixed; \n",
    "             top: 50px; left: 50px; width: 150px; height: 150px; \n",
    "             border:2px solid grey; z-index:9999; font-size:14px;\n",
    "             \">&nbsp; Stars Legend <br>\n",
    "  &nbsp; 4-5 stars &nbsp; <i class=\"fa fa-map-marker fa-2x\" style=\"color:darkgreen\"></i><br>\n",
    "  &nbsp; 3-4 stars &nbsp; <i class=\"fa fa-map-marker fa-2x\" style=\"color:lightgreen\"></i><br>\n",
    "  &nbsp; 2-3 stars &nbsp; <i class=\"fa fa-map-marker fa-2x\" style=\"color:orange\"></i><br>\n",
    "  &nbsp; 1-2 stars &nbsp; <i class=\"fa fa-map-marker fa-2x\" style=\"color:red\"></i>\n",
    "</div>\n",
    "{% endmacro %}\n",
    "\"\"\"\n",
    "\n",
    "macro = MacroElement()\n",
    "macro._template = Template(template)\n",
    "\n",
    "map.get_root().add_child(macro)\n",
    "\n",
    "# save map\n",
    "map.save('indianapolis_breakfast_clusters_with_stars.html')"
   ]
  },
  {
   "cell_type": "code",
   "execution_count": null,
   "id": "1ec782fa",
   "metadata": {},
   "outputs": [],
   "source": [
    "# check zip code\n",
    "zip_clusters = indianapolis_breakfast.groupby('ZIP Code')['cluster'].unique()\n",
    "\n",
    "for zip_code, clusters in zip_clusters.items():\n",
    "    if len(clusters) > 1:\n",
    "        selected_cluster = np.random.choice(clusters)\n",
    "        indianapolis_breakfast.loc[indianapolis_breakfast['ZIP Code'] == zip_code, 'cluster'] = selected_cluster"
   ]
  },
  {
   "cell_type": "code",
   "execution_count": null,
   "id": "d6936e95",
   "metadata": {},
   "outputs": [],
   "source": [
    "# combine two data sets\n",
    "business_ids = indianapolis_breakfast['business_id'].unique()\n",
    "matching_rows = indianapolis_breakfast1[indianapolis_breakfast1['business_id'].isin(business_ids)]"
   ]
  },
  {
   "cell_type": "code",
   "execution_count": null,
   "id": "6a2041f8",
   "metadata": {},
   "outputs": [],
   "source": [
    "indianapolis_breakfast1 = indianapolis_breakfast1.merge(indianapolis_breakfast[['business_id', 'cluster','ZIP Code']], \n",
    "                                                        on='business_id', \n",
    "                                                        how='inner')"
   ]
  },
  {
   "cell_type": "code",
   "execution_count": null,
   "id": "ea4ecef6",
   "metadata": {},
   "outputs": [],
   "source": [
    "import pandas as pd\n",
    "\n",
    "# deal with attributes column\n",
    "def process_element(element):\n",
    "    new_element = {}\n",
    "    if element is None:\n",
    "        return new_element\n",
    "\n",
    "    for key, value in element.items():\n",
    "        if isinstance(value, str) and value.startswith(\"{\"):\n",
    "            try:\n",
    "                sub_dict = eval(value)\n",
    "            except:\n",
    "                sub_dict = {}\n",
    "            for sub_key, sub_value in sub_dict.items():\n",
    "                new_key = f\"{key}_{sub_key}\"\n",
    "                new_element[new_key] = 1 if sub_value == 'True' else 0 if sub_value == 'False' else sub_value\n",
    "        else:\n",
    "            new_element[key] = 1 if value == 'True' else 0 if value == 'False' else value\n",
    "    return new_element\n",
    "\n",
    "expanded_data = indianapolis_breakfast1['attributes'].apply(process_element)\n",
    "expanded_df = pd.DataFrame(expanded_data.tolist())"
   ]
  },
  {
   "cell_type": "code",
   "execution_count": null,
   "id": "da77f65c",
   "metadata": {},
   "outputs": [],
   "source": [
    "df = expanded_df"
   ]
  },
  {
   "cell_type": "code",
   "execution_count": null,
   "id": "783183dc",
   "metadata": {},
   "outputs": [],
   "source": [
    "# delete useless information\n",
    "def remove_u_prefix(text):\n",
    "    if isinstance(text, str):\n",
    "        return text.replace(\"u'\", \"'\", 1)  \n",
    "    return text \n",
    "\n",
    "\n",
    "for column in df.columns:\n",
    "    df[column] = df[column].apply(remove_u_prefix)"
   ]
  },
  {
   "cell_type": "code",
   "execution_count": null,
   "id": "e26a7a83",
   "metadata": {},
   "outputs": [],
   "source": [
    "expanded_df = df"
   ]
  },
  {
   "cell_type": "code",
   "execution_count": null,
   "id": "5050b093",
   "metadata": {},
   "outputs": [],
   "source": [
    "expanded_df.head()"
   ]
  },
  {
   "cell_type": "code",
   "execution_count": null,
   "id": "b6ef87b0",
   "metadata": {},
   "outputs": [],
   "source": [
    "import pandas as pd\n",
    "\n",
    "# one-hot encoding\n",
    "expanded_df = pd.get_dummies(expanded_df)"
   ]
  },
  {
   "cell_type": "code",
   "execution_count": null,
   "id": "ff16e8b7",
   "metadata": {},
   "outputs": [],
   "source": [
    "expanded_df.reset_index(drop=True, inplace=True)\n",
    "indianapolis_breakfast1.reset_index(drop=True, inplace=True)\n",
    "indianapolis_breakfast.reset_index(drop=True, inplace=True)"
   ]
  },
  {
   "cell_type": "code",
   "execution_count": null,
   "id": "799dcf45",
   "metadata": {},
   "outputs": [],
   "source": [
    "indianapolis_breakfast1.to_csv('indianapolis_zipcode_cluster.csv', index=True)"
   ]
  },
  {
   "cell_type": "code",
   "execution_count": null,
   "id": "1e053b75",
   "metadata": {},
   "outputs": [],
   "source": [
    "import pandas as pd\n",
    "# See stars of attributes\n",
    "n = 10\n",
    "\n",
    "cluster_1_rows = indianapolis_breakfast1['cluster'] <12\n",
    "print(indianapolis_breakfast[indianapolis_breakfast['cluster'] == n]['ZIP Code'].unique())\n",
    "mean_stars_cluster_1 = indianapolis_breakfast1[cluster_1_rows]['stars'].mean()\n",
    "print(f\"Average star of cluster {n}:{mean_stars_cluster_1}\")\n",
    "\n",
    "above_avg_results = {}\n",
    "below_avg_results = {}\n",
    "\n",
    "for col in expanded_df.columns:\n",
    "    valid_rows = (expanded_df[col] == 1) & cluster_1_rows\n",
    "    valid_stars = indianapolis_breakfast1[valid_rows]['stars']\n",
    "    avg_value = valid_stars.mean() if not valid_stars.empty else None\n",
    "\n",
    "    if avg_value is not None:\n",
    "        if avg_value > mean_stars_cluster_1:\n",
    "            above_avg_results[col] = avg_value\n",
    "        elif avg_value < mean_stars_cluster_1:\n",
    "            below_avg_results[col] = avg_value\n",
    "\n",
    "# order result\n",
    "above_avg_results_sorted = dict(sorted(above_avg_results.items(), key=lambda item: item[1], reverse=True))\n",
    "below_avg_results_sorted = dict(sorted(below_avg_results.items(), key=lambda item: item[1]))\n",
    "\n",
    "print(\"Tags with Average Stars Above Cluster {n} Mean:\")\n",
    "print(above_avg_results_sorted)\n",
    "print(\"\\nTags with Average Stars Below Cluster {n} Mean:\")\n",
    "print(below_avg_results_sorted)\n"
   ]
  },
  {
   "cell_type": "code",
   "execution_count": null,
   "id": "74f5bb2a",
   "metadata": {},
   "outputs": [],
   "source": []
  }
 ],
 "metadata": {
  "kernelspec": {
   "display_name": "Python 3 (ipykernel)",
   "language": "python",
   "name": "python3"
  },
  "language_info": {
   "codemirror_mode": {
    "name": "ipython",
    "version": 3
   },
   "file_extension": ".py",
   "mimetype": "text/x-python",
   "name": "python",
   "nbconvert_exporter": "python",
   "pygments_lexer": "ipython3",
   "version": "3.9.7"
  }
 },
 "nbformat": 4,
 "nbformat_minor": 5
}
